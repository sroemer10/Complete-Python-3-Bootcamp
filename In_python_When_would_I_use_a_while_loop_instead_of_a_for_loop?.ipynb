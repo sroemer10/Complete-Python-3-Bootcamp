{
  "cells": [
    {
      "cell_type": "markdown",
      "metadata": {
        "id": "view-in-github",
        "colab_type": "text"
      },
      "source": [
        "<a href=\"https://colab.research.google.com/github/sroemer10/Complete-Python-3-Bootcamp/blob/master/In_python_When_would_I_use_a_while_loop_instead_of_a_for_loop%3F.ipynb\" target=\"_parent\"><img src=\"https://colab.research.google.com/assets/colab-badge.svg\" alt=\"Open In Colab\"/></a>"
      ]
    },
    {
      "cell_type": "markdown",
      "source": [
        "In Python, you would use a while loop instead of a for loop when the number of iterations is not known in advance. For example, you would use a while loop to:\n",
        "\n",
        "* Read a file line by line.\n",
        "* Wait for user input.\n",
        "* Loop until a condition is met.\n",
        "\n",
        "Here is an example of a while loop that reads a file line by line:"
      ],
      "metadata": {
        "id": "-vGL5yZqbRbD"
      }
    },
    {
      "cell_type": "code",
      "source": [
        "# Open the file in read mode\n",
        "file = open(\"my_file.txt\", \"r\")\n",
        "\n",
        "# Read the first line of the file\n",
        "line = file.readline()\n",
        "\n",
        "# While the line is not empty, do something with it\n",
        "while line:\n",
        "  # Do something with the line\n",
        "  print(line)\n",
        "\n",
        "  # Read the next line of the file\n",
        "  line = file.readline()\n",
        "\n",
        "# Close the file\n",
        "file.close()"
      ],
      "outputs": [],
      "execution_count": null,
      "metadata": {
        "id": "lt1kwnr5bRbI"
      }
    },
    {
      "cell_type": "markdown",
      "source": [
        "Here is an example of a while loop that waits for user input:"
      ],
      "metadata": {
        "id": "2rSOjcEsbRbK"
      }
    },
    {
      "cell_type": "code",
      "source": [
        "# Get the user's input\n",
        "user_input = input(\"Enter something: \")\n",
        "\n",
        "# While the user's input is not \"quit\", do something with it\n",
        "while user_input != \"quit\":\n",
        "  # Do something with the user's input\n",
        "  print(\"You entered: \" + user_input)\n",
        "\n",
        "  # Get the user's input again\n",
        "  user_input = input(\"Enter something: \")"
      ],
      "outputs": [],
      "execution_count": null,
      "metadata": {
        "id": "LmBkrY_6bRbL"
      }
    },
    {
      "cell_type": "markdown",
      "source": [
        "Here is an example of a while loop that loops until a condition is met:"
      ],
      "metadata": {
        "id": "VPanjOQCbRbM"
      }
    },
    {
      "cell_type": "code",
      "source": [
        "# Initialize the counter\n",
        "counter = 0\n",
        "\n",
        "# While the counter is less than 10, do something\n",
        "while counter < 10:\n",
        "  # Do something with the counter\n",
        "  print(counter)\n",
        "\n",
        "  # Increment the counter\n",
        "  counter += 1"
      ],
      "outputs": [],
      "execution_count": null,
      "metadata": {
        "id": "tA5F-kLcbRbN"
      }
    },
    {
      "cell_type": "markdown",
      "source": [
        "In general, you should use a for loop whenever possible, as it is more concise and easier to read. However, you should use a while loop when the number of iterations is not known in advance or when you need to loop until a specific condition is met."
      ],
      "metadata": {
        "id": "2n_DcIMvbRbN"
      }
    }
  ],
  "metadata": {
    "colab": {
      "provenance": [],
      "include_colab_link": true
    },
    "kernelspec": {
      "display_name": "Python 3",
      "name": "python3"
    }
  },
  "nbformat": 4,
  "nbformat_minor": 0
}